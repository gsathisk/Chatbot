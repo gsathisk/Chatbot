{
  "cells": [
    {
      "cell_type": "markdown",
      "metadata": {
        "id": "nd8ddC7NQ8uZ"
      },
      "source": [
        "# Transformer Chatbot Using Python/TensorFlow/Keras"
      ]
    },
    {
      "cell_type": "markdown",
      "metadata": {
        "id": "YcK7-_3RxRvK"
      },
      "source": [
        "<table>\n",
        "  <td>\n",
        "    <a target=\"_blank\" href=\"https://colab.research.google.com/github/gsathisk/Chatbot/blob/main/TensorFlow_Transformer_Chatbot.ipynb\"><img src=\"https://www.tensorflow.org/images/colab_logo_32px.png\" /> Run in Google Colab</a>\n",
        "  </td>\n",
        "</table>"
      ]
    },
    {
      "cell_type": "markdown",
      "metadata": {},
      "source": [
        "## Transformer Chatbot"
      ]
    },
    {
      "cell_type": "markdown",
      "metadata": {},
      "source": [
        "Chatbots are computer programs that create responses as close as humans when an interaction is carried out using a text or voice-based input. Chatbots use Natural Language Processing (NLP) techniques to understand most human languages. Chatbots are useful applications in industries like entertainment, information retrieval, education, e-commerce, business, and much more. The primary advantages of chatbots in businesses were the ability to deal with multiple users at the same time while significantly reducing customer service costs. With this in mind, this chatbot project will use Transformer Models for creating the chatbot. The scope of the chatbot will remain as an open domain. The core idea behind the Transformer model is _self-attention_, the ability to attend to different positions of the input sequence to compute a representation of that sequence. Transformer creates stacks of self-attention layers and is explained below in the sections _Scaled dot product attention_ and _Multi-head attention_.\n",
        "\n",
        "\n",
        "The implementation of Transformer using TensorFlow 2.0 and python involved the following:\n",
        "- Importing the required library modules for python and tensorflow\n",
        "- Setting up the Google colab TPU environment\n",
        "- Defining the hyperparameters for the input, batch, and transformer model\n",
        "    - Input:\n",
        "        - Input sentence length to be used for training the model\n",
        "        - Number of samples to be used for training the model\n",
        "    - Batch:\n",
        "        - Batch size (number of samples per batch)\n",
        "        - Buffer size for the batch (helps prefetching)\n",
        "    - Model:\n",
        "        - Number of layers [Nx] for Encoder and Decoder\n",
        "        - Number of expected features in the encoder/decoder inputs\n",
        "        - Number of heads for Multi-head attention\n",
        "        - Number of hidden units\n",
        "        - Probability at which outputs of the layer are dropped out\n",
        "        - Number of Training steps for the entire dataset (EPOCHS)\n",
        "- Importing and unzipping the \"Cornell movie corpus\" dataset\n",
        "- Creating the question & answer set using the \"movie_conversations.txt\" and \"movie_lines.txt\" files.\n",
        "    - Involves preprocessing of sentences\n",
        "    - Involves marrying conversations based on conversation ids\n",
        "- Attention process:\n",
        "    - Creating Scaled dot-product attention (Attention calculation)\n",
        "    - Creating Multi-head attention (Calls --> Scaled dot-product attention)\n",
        "- Transformer model creation:\n",
        "    - Create definition for padded masking of inputs\n",
        "    - Create definition for look-ahead masking of outputs\n",
        "    - Create definition for positional encoding\n",
        "    - Create definition for encoder layer (Single layer)\n",
        "    - Create definition for encoder (Iterate encoder layer based on [Nx] hyperparameter)\n",
        "    - Create definition for decoder layer (Single layer)\n",
        "    - Create definition for decoder (Iterate decoder layer based on [Nx] hyperparameter)\n",
        "    - Create definition for transformer model\n",
        "        - Call encoder\n",
        "        - Call decoder\n",
        "        - Call linear layer\n",
        "- Compile the model:\n",
        "    - Create definition for loss function\n",
        "    - Create definition for custom learning rate\n",
        "    - Create definition for optimizer (Adam)\n",
        "    - Create definition for accuracy (Used for metrics report)\n",
        "    - Initialize the model\n",
        "    - Complile the model\n",
        "    - Display the summary of the model\n",
        "- Training the model:\n",
        "    - Train (fit) the model using input dataset for defined number of EPOCHS (hyperparameter)\n",
        "- Create definitions for evaluating and predicting the model\n",
        "- Testing the model"
      ]
    },
    {
      "cell_type": "markdown",
      "metadata": {},
      "source": [
        "## Initial Setup"
      ]
    },
    {
      "cell_type": "markdown",
      "metadata": {},
      "source": [
        "### Import Libraries"
      ]
    },
    {
      "cell_type": "markdown",
      "metadata": {},
      "source": [
        "The following python libraries are imported to help with the development of this transformer model."
      ]
    },
    {
      "cell_type": "code",
      "execution_count": 1,
      "metadata": {
        "colab": {
          "base_uri": "https://localhost:8080/",
          "height": 555
        },
        "id": "mb_5bl7G_n30",
        "outputId": "55ab009c-7f3c-4b47-9c77-529ea00146f6"
      },
      "outputs": [
        {
          "name": "stdout",
          "output_type": "stream",
          "text": [
            "Tensorflow imported. Version: 2.7.0\n"
          ]
        }
      ],
      "source": [
        "# Import library modules required for this program\n",
        "from __future__ import absolute_import, division, print_function, unicode_literals\n",
        "import sys\n",
        "import os\n",
        "import re\n",
        "import numpy as np\n",
        "from time import time\n",
        "import matplotlib.pyplot as plt\n",
        "\n",
        "#%pip install tensorflow==2.3.1\n",
        "import tensorflow as tf\n",
        "tf.random.set_seed(1234)\n",
        "AUTO = tf.data.experimental.AUTOTUNE\n",
        "\n",
        "#%pip install tensorflow-datasets==4.1.0\n",
        "import tensorflow_datasets as tfds\n",
        "\n",
        "print(\"Tensorflow imported. Version: {}\".format(tf.__version__))\n"
      ]
    },
    {
      "cell_type": "markdown",
      "metadata": {
        "id": "-YXFrSnNE_2j"
      },
      "source": [
        "### GPU / TPU initialization (Required for Google Colab)"
      ]
    },
    {
      "cell_type": "markdown",
      "metadata": {},
      "source": [
        "- Tensor Processing Units (TPUs) are Google’s custom-developed application-specific integrated circuits (ASICs) used to accelerate machine learning workloads. Learn more about TPU here --> __[What is TPU?](https://cloud.google.com/tpu/docs/tpus)__\n",
        "- Use Google Colab to run this code to take advantage of TPU/GPU hardware acceleration. To enable it in Colab, under \"Runtime --> Change Runtime Type --> Select `TPU` or `GPU` as hardware accelerator.\n"
      ]
    },
    {
      "cell_type": "code",
      "execution_count": 2,
      "metadata": {
        "colab": {
          "base_uri": "https://localhost:8080/",
          "height": 743
        },
        "id": "Rz2ZbpAREmRA",
        "outputId": "3095d2e2-c783-4af5-9b77-b1e40ad1c82e"
      },
      "outputs": [
        {
          "name": "stdout",
          "output_type": "stream",
          "text": [
            "TPU Replication strategy (Num_replicas): 1\n"
          ]
        }
      ],
      "source": [
        "# Define TPU cluster config\n",
        "try:\n",
        "    tpu = tf.distribute.cluster_resolver.TPUClusterResolver()\n",
        "    print('Running on TPU {}'.format(tpu.cluster_spec().as_dict()['worker']))\n",
        "except ValueError:\n",
        "    tpu = None\n",
        "\n",
        "if tpu:\n",
        "    tf.config.experimental_connect_to_cluster(tpu)\n",
        "    tf.tpu.experimental.initialize_tpu_system(tpu)\n",
        "    strategy = tf.distribute.experimental.TPUStrategy(tpu)\n",
        "else:\n",
        "    strategy = tf.distribute.get_strategy()\n",
        "\n",
        "print(\"TPU Replication strategy (Num_replicas): {}\".format(strategy.num_replicas_in_sync))"
      ]
    },
    {
      "cell_type": "markdown",
      "metadata": {
        "id": "skMfzRV5cEnb"
      },
      "source": [
        "## Hyperparameters"
      ]
    },
    {
      "cell_type": "markdown",
      "metadata": {},
      "source": [
        "- To keep this example small and relatively fast, the values for *num_layers, d_model, and units* have been reduced. \n",
        "    - See the article [Attention Is All You Need](https://arxiv.org/abs/1706.03762) for all the other versions of the transformer."
      ]
    },
    {
      "cell_type": "code",
      "execution_count": 4,
      "metadata": {
        "id": "alnYEatYcHp7"
      },
      "outputs": [
        {
          "name": "stdout",
          "output_type": "stream",
          "text": [
            "Hyperparameter definition completed !!!\n"
          ]
        }
      ],
      "source": [
        "# Filters for input dataset\n",
        "MAX_LENGTH = 40 # Maximum sentence length to keep. Conversations that are bigger gets dropped.\n",
        "MAX_SAMPLES = 50000 # Maximum number of samples to preprocess & fed to training.\n",
        "\n",
        "# Parameters for the Dataset. Question and Answer sets (Numpy arrays) are split into chunks of batches.\n",
        "BATCH_SIZE = 64 * strategy.num_replicas_in_sync # number of training examples used by one GPU in one training step\n",
        "BUFFER_SIZE = 20000 # number of elements that will be buffered when prefetching\n",
        "\n",
        "# Parameters for Transformer Model\n",
        "NUM_LAYERS = 2 # Number of layers [Nx] for Encoder and Decoder\n",
        "D_MODEL = 256 # the number of expected features in the encoder/decoder inputs\n",
        "NUM_HEADS = 8 # Number of heads for Multi-head attention\n",
        "UNITS = 512 # Number of hidden units\n",
        "DROPOUT = 0.1 # The probability at which outputs of the layer are dropped out\n",
        "EPOCHS = 40 # Number of Training steps for the entire dataset\n",
        "\n",
        "print('Hyperparameter definition completed !!!')"
      ]
    },
    {
      "cell_type": "markdown",
      "metadata": {
        "id": "y0AqALdZCbCW"
      },
      "source": [
        "## Prepare Dataset"
      ]
    },
    {
      "cell_type": "markdown",
      "metadata": {},
      "source": [
        "- The conversations in movies and TV shows provided by [Cornell Movie-Dialogs Corpus](https://www.cs.cornell.edu/~cristian/Cornell_Movie-Dialogs_Corpus.html) is used as input dataset.\n",
        "- Dataset contains more than 220 thousands conversational exchanges between more than 10k pairs of movie characters, as the dataset.\n",
        "- `movie_conversations.txt` contains list of the conversation IDs and `movie_lines.text` contains the text assoicated with each conversation ID. \n",
        "    - For further  information regarding the dataset, please check the README file in the zip file."
      ]
    },
    {
      "cell_type": "code",
      "execution_count": 5,
      "metadata": {
        "colab": {
          "base_uri": "https://localhost:8080/",
          "height": 52
        },
        "id": "S17Nfn6W_vhd",
        "outputId": "92553a0e-78b3-4504-bdc1-ae79ae84c64c"
      },
      "outputs": [
        {
          "name": "stdout",
          "output_type": "stream",
          "text": [
            "Dataset unzipped. Path to movie lines file and conversation file are set\n"
          ]
        }
      ],
      "source": [
        "path_to_zip = tf.keras.utils.get_file('cornell_movie_dialogs.zip',\n",
        "    origin= 'http://www.cs.cornell.edu/~cristian/data/cornell_movie_dialogs_corpus.zip',\n",
        "    extract=True)\n",
        "\n",
        "path_to_dataset = os.path.join(\n",
        "    os.path.dirname(path_to_zip), \"cornell movie-dialogs corpus\")\n",
        "\n",
        "path_to_movie_lines = os.path.join(path_to_dataset, 'movie_lines.txt')\n",
        "path_to_movie_conversations = os.path.join(path_to_dataset, 'movie_conversations.txt')\n",
        "\n",
        "print('Dataset unzipped. Path to movie lines file and conversation file are set')"
      ]
    },
    {
      "cell_type": "markdown",
      "metadata": {
        "id": "iZMuzj0cVr3E"
      },
      "source": [
        "### Data preprocesing:\n",
        "\n",
        "#### 1) Subset the training data:\n",
        "* To keep this example simple and fast, training samples were limited to `MAX_SAMPLES=50000` and the maximum length of the sentence to  `MAX_LENGTH=40`."
      ]
    },
    {
      "cell_type": "markdown",
      "metadata": {},
      "source": [
        "#### 2) Preprocessing \n",
        "\n",
        "##### step #1:\n",
        "* The following preprocessing steps occur in the process:\n",
        "    * Spaces are added after punctuations (Eg: \"he is a boy.\" => \"he is a boy .\")\n",
        "    * Contractions are removed (Eg: \"i'm\", \"i am\")\n",
        "    * Replace everything with space except (a-z, A-Z, \".\", \"?\", \"!\", \",\")"
      ]
    },
    {
      "cell_type": "code",
      "execution_count": 6,
      "metadata": {},
      "outputs": [],
      "source": [
        "# Preprocessing to work with spaces and contractions\n",
        "def preprocess_sentence(sentence):\n",
        "  sentence = sentence.lower().strip()\n",
        "  # creating a space between a word and the punctuation following it\n",
        "  # eg: \"he is a boy.\" => \"he is a boy .\"\n",
        "  sentence = re.sub(r\"([?.!,])\", r\" \\1 \", sentence)\n",
        "  sentence = re.sub(r'[\" \"]+', \" \", sentence)\n",
        "  # removing contractions\n",
        "  sentence = re.sub(r\"i'm\", \"i am\", sentence)\n",
        "  sentence = re.sub(r\"he's\", \"he is\", sentence)\n",
        "  sentence = re.sub(r\"she's\", \"she is\", sentence)\n",
        "  sentence = re.sub(r\"it's\", \"it is\", sentence)\n",
        "  sentence = re.sub(r\"that's\", \"that is\", sentence)\n",
        "  sentence = re.sub(r\"what's\", \"that is\", sentence)\n",
        "  sentence = re.sub(r\"where's\", \"where is\", sentence)\n",
        "  sentence = re.sub(r\"how's\", \"how is\", sentence)\n",
        "  sentence = re.sub(r\"\\'ll\", \" will\", sentence)\n",
        "  sentence = re.sub(r\"\\'ve\", \" have\", sentence)\n",
        "  sentence = re.sub(r\"\\'re\", \" are\", sentence)\n",
        "  sentence = re.sub(r\"\\'d\", \" would\", sentence)\n",
        "  sentence = re.sub(r\"\\'re\", \" are\", sentence)\n",
        "  sentence = re.sub(r\"won't\", \"will not\", sentence)\n",
        "  sentence = re.sub(r\"can't\", \"cannot\", sentence)\n",
        "  sentence = re.sub(r\"n't\", \" not\", sentence)\n",
        "  sentence = re.sub(r\"n'\", \"ng\", sentence)\n",
        "  sentence = re.sub(r\"'bout\", \"about\", sentence)\n",
        "  # replacing everything with space except (a-z, A-Z, \".\", \"?\", \"!\", \",\")\n",
        "  sentence = re.sub(r\"[^a-zA-Z?.!,]+\", \" \", sentence)\n",
        "  sentence = sentence.strip()\n",
        "  return sentence"
      ]
    },
    {
      "cell_type": "markdown",
      "metadata": {},
      "source": [
        "##### step #2:\n",
        "* Conversation Id's (from `movie_conversations.txt`) and actual conversations (from `movie_lines.txt`) are married together and converted into a dictionary. An example conversation is given below. At the end, the entire conversation file is converted to an Question and Answer List\n",
        "\n",
        "    ##### Example Conversation ID:<br>\n",
        "    - u0 +++$+++ u2 +++$+++ m0 +++$+++ ['L194', 'L195', 'L196', 'L197']\n",
        "\n",
        "    ##### Example Conversation Text:<br>\n",
        "    - L194 +++$+++ u0 +++$+++ m0 +++$+++ BIANCA +++$+++ Can we make this quick?  Roxanne Korrine and Andrew Barrett are having an incredibly horrendous public break- up on the quad.  Again.\n",
        "    - L195 +++$+++ u2 +++$+++ m0 +++$+++ CAMERON +++$+++ Well, I thought we'd start with pronunciation, if that's okay with you.<br>\n",
        "    - L196 +++$+++ u0 +++$+++ m0 +++$+++ BIANCA +++$+++ Not the hacking and gagging and spitting part.  Please.<br>\n",
        "    - L197 +++$+++ u2 +++$+++ m0 +++$+++ CAMERON +++$+++ Okay... then how 'bout we try out some French cuisine.  Saturday?  Night?<br>\n",
        "\n",
        "    ##### Processed inputs (Questions):\n",
        "    - 'can we make this quick ? roxanne korrine and andrew barrett are having an incredibly horrendous public break up on the quad . again .',\n",
        "    - 'well , i thought we would start with pronunciation , if that is okay with you .',\n",
        "    - 'not the hacking and gagging and spitting part . please .'\n",
        "    \n",
        "    ##### Processed outputs (Answers):\n",
        "    - 'well , i thought we would start with pronunciation , if that is okay with you .', <br>\n",
        "    - 'not the hacking and gagging and spitting part . please .', <br>\n",
        "    - 'okay . . . then how about we try out some french cuisine . saturday ? night ?'\n",
        "    <br><br>"
      ]
    },
    {
      "cell_type": "code",
      "execution_count": 8,
      "metadata": {
        "id": "_B147qKb_0ks"
      },
      "outputs": [
        {
          "name": "stdout",
          "output_type": "stream",
          "text": [
            "Max samples to load set at ==>  50000\n",
            "Conversations are mapped and preprocessing completed...\n",
            "\n",
            "Sample question ==> can we make this quick ? roxanne korrine and andrew barrett are having an incredibly horrendous public break up on the quad . again .\n",
            "Sample answer   ==> well , i thought we would start with pronunciation , if that is okay with you .\n",
            "\n",
            "Question and Answer list created !!!\n"
          ]
        }
      ],
      "source": [
        "# Map actual conversations from \"movie_lines.txt\" using Id's from \"movie_conversations.txt\"\n",
        "def load_conversations():\n",
        "  # dictionary of line id to text\n",
        "  id2line = {}\n",
        "  with open(path_to_movie_lines, errors='ignore') as file:\n",
        "    lines = file.readlines()\n",
        "  for line in lines:\n",
        "    parts = line.replace('\\n', '').split(' +++$+++ ')\n",
        "    id2line[parts[0]] = parts[4]\n",
        "\n",
        "  inputs, outputs = [], []\n",
        "  with open(path_to_movie_conversations, 'r') as file:\n",
        "    lines = file.readlines()\n",
        "\n",
        "  for line in lines:\n",
        "    parts = line.replace('\\n', '').split(' +++$+++ ')\n",
        "    # get conversation in a list of line ID\n",
        "    conversation = [line[1:-1] for line in parts[3][1:-1].split(', ')]\n",
        "    for i in range(len(conversation) - 1):\n",
        "      inputs.append(preprocess_sentence(id2line[conversation[i]]))\n",
        "      outputs.append(preprocess_sentence(id2line[conversation[i + 1]]))\n",
        "      # Maximum number of samples to load for processing\n",
        "      if len(inputs) >= MAX_SAMPLES:\n",
        "        return inputs, outputs\n",
        "  return inputs, outputs\n",
        "\n",
        "\n",
        "print('Max samples to load set at ==> ', MAX_SAMPLES)\n",
        "questions, answers = load_conversations()\n",
        "print('Conversations are mapped and preprocessing completed...')\n",
        "\n",
        "print('\\nSample question ==> {}'.format(questions[0]))\n",
        "print('Sample answer   ==> {}'.format(answers[0]))\n",
        "print('\\nQuestion and Answer list created !!!')"
      ]
    },
    {
      "cell_type": "markdown",
      "metadata": {},
      "source": [
        "##### step #3:\n",
        "\n",
        "* Build tokenizer (Each unique word in the question and answer list is assigned a number `token`).\n",
        "    #### Examples:\n",
        "    <i>Note: In this example, 8277 is id assigned to mark the beginning of a sentence `START_TOKEN` and 8278 for `END_TOKEN` to indicate the end of each sentence.</i>\n",
        "\n",
        "    - Sentence ==> 'can we make this quick ? roxanne korrine and andrew barrett are having an incredibly horrendous public break up on the quad . again .'\n",
        "        - Tokenized sentence ==> 8277, 58, 22, 110, 33, 3055, 23, 956, 8141, 2941, 8053, 2373, 3587, 2260, 14, 7494, 937, 6596, 8053, 17, 431, 82, 5533, 7898, 220, 3081, 3926, 130, 1451, 741, 74, 39, 6, 2109, 8121, 2, 231, 1, 8278\n",
        "    - Sentence ==> 'well , i thought we would start with pronunciation , if that is okay with you .'\n",
        "        - Tokenized sentence ==> 8277, 69, 3, 4, 175, 22, 42, 353, 38, 1079, 1587, 4185, 820, 3, 50, 15, 9, 1109, 38, 31, 1, 8278\n",
        "    - Sentence ==> 'not the hacking and gagging and spitting part . please .'\n",
        "        - Tokenized sentence ==> 8277, 11, 6, 4388, 88, 14, 3635, 3087, 14, 2803, 1029, 1954, 2, 257, 1, 8278\n",
        "    - Sentence ==> 'okay . . . then how about we try out some french cuisine . saturday ? night ?'\n",
        "        - Tokenized sentence ==> 8277, 135, 28, 108, 54, 53, 22, 302, 64, 91, 1833, 986, 4209, 633, 2, 4709, 23, 230, 7, 8278"
      ]
    },
    {
      "cell_type": "code",
      "execution_count": 9,
      "metadata": {
        "id": "s6XX2udMTCQt"
      },
      "outputs": [
        {
          "name": "stdout",
          "output_type": "stream",
          "text": [
            "Token creation for corpus completed ...\n",
            "Tokenized sample question:\n",
            " can we make this quick ? roxanne korrine and andrew barrett are having an incredibly horrendous public break up on the quad . again . \n",
            " [58, 22, 110, 33, 3055, 23, 956, 8141, 2941, 8053, 2373, 3587, 2260, 14, 7494, 937, 6596, 8053, 17, 431, 82, 5533, 7898, 220, 3081, 3926, 130, 1451, 741, 74, 39, 6, 2109, 8121, 2, 231, 1]\n",
            "Tokenized sample answer:\n",
            " well , i thought we would start with pronunciation , if that is okay with you . \n",
            " [69, 3, 4, 175, 22, 42, 353, 38, 1079, 1587, 4185, 820, 3, 50, 15, 9, 1109, 38, 31, 1]\n",
            "\n",
            "Start token: [8277]. End Token: [8278]. Vocabulary size: 8279.\n"
          ]
        }
      ],
      "source": [
        "# Create tokens for question and answer list (Entire corpus)\n",
        "tokenizer = tfds.deprecated.text.SubwordTextEncoder.build_from_corpus(\n",
        "    questions + answers, target_vocab_size=2**13)\n",
        "print('Token creation for corpus completed ...')\n",
        "\n",
        "# Define Start/End token to indicate the beginning and end of a sentence\n",
        "START_TOKEN, END_TOKEN = [tokenizer.vocab_size], [tokenizer.vocab_size + 1]\n",
        "# Vocabulary size includes Start & End token\n",
        "VOCAB_SIZE = tokenizer.vocab_size + 2\n",
        "\n",
        "print('Tokenized sample question:\\n {} \\n {}'.format(questions[0], tokenizer.encode(questions[0])))\n",
        "print('Tokenized sample answer:\\n {} \\n {}'.format(answers[0], tokenizer.encode(answers[0])))\n",
        "print('\\nStart token: {}. End Token: {}. Vocabulary size: {}.'.format(START_TOKEN, END_TOKEN, VOCAB_SIZE))"
      ]
    },
    {
      "cell_type": "markdown",
      "metadata": {},
      "source": [
        "##### step #4:\n",
        "\n",
        "* Filter out sentence that has more than `MAX_LENGTH` tokens.\n",
        "* Pad tokenized sentences with \"0\" at the end, upto `MAX_LENGTH` (40 in this case).\n",
        "    #### Example:\n",
        "    \n",
        "    - Question ==> i really , really , really wanna go , but i cannot . not unless my sister goes .\n",
        "    - Tokenized and Padded Question ==> [8277, 4, 271, 3, 271, 3, 141, 385, 173, 3, 40, 4, 611, 2, 11, 864, 30, 2021, 3086, 1, 8278, 0, 0, 0, 0, 0, 0, 0, 0, 0, 0, 0, 0, 0, 0, 0, 0, 0, 0, 0]"
      ]
    },
    {
      "cell_type": "code",
      "execution_count": 10,
      "metadata": {
        "id": "YESTPgeg_XgT"
      },
      "outputs": [
        {
          "name": "stdout",
          "output_type": "stream",
          "text": [
            "Maximum sentence length defined ==>  40\n",
            "Tokenization, Filtering of bigger sentences, Padding of sentences, Completed !!!\n",
            "\n",
            "Total number of questions: 44131\n",
            "\n",
            "Tokenized/Filtered/Padded sample question: \n",
            "[8277   58   22  110   33 3055   23  956 8141 2941 8053 2373 3587 2260\n",
            "   14 7494  937 6596 8053   17  431   82 5533 7898  220 3081 3926  130\n",
            " 1451  741   74   39    6 2109 8121    2  231    1 8278    0]\n",
            "Tokenized/Filtered/Padded sample answer: \n",
            "[8277   69    3    4  175   22   42  353   38 1079 1587 4185  820    3\n",
            "   50   15    9 1109   38   31    1 8278    0    0    0    0    0    0\n",
            "    0    0    0    0    0    0    0    0    0    0    0    0]\n",
            "\n",
            "Tokenized/Filtered/Padded sample question: \n",
            "[8277   69    3    4  175   22   42  353   38 1079 1587 4185  820    3\n",
            "   50   15    9 1109   38   31    1 8278    0    0    0    0    0    0\n",
            "    0    0    0    0    0    0    0    0    0    0    0    0]\n",
            "Tokenized/Filtered/Padded sample answer: \n",
            "[8277   11    6 4388   88   14 3635 3087   14 2803 1029 1954    2  257\n",
            "    1 8278    0    0    0    0    0    0    0    0    0    0    0    0\n",
            "    0    0    0    0    0    0    0    0    0    0    0    0]\n",
            "\n",
            "Tokenized/Filtered/Padded sample question: \n",
            "[8277   11    6 4388   88   14 3635 3087   14 2803 1029 1954    2  257\n",
            "    1 8278    0    0    0    0    0    0    0    0    0    0    0    0\n",
            "    0    0    0    0    0    0    0    0    0    0    0    0]\n",
            "Tokenized/Filtered/Padded sample answer: \n",
            "[8277  135   28  108   54   53   22  302   64   91 1833  986 4209  633\n",
            "    2 4709   23  230    7 8278    0    0    0    0    0    0    0    0\n",
            "    0    0    0    0    0    0    0    0    0    0    0    0]\n",
            "\n",
            "Tokenized/Filtered/Padded sample question: \n",
            "[8277    5   17  739   36  140    2   15    9   55 1688    2   15    9\n",
            "   29  299  231    7 8278    0    0    0    0    0    0    0    0    0\n",
            "    0    0    0    0    0    0    0    0    0    0    0    0]\n",
            "Tokenized/Filtered/Padded sample answer: \n",
            "[8277  473   35    1 8278    0    0    0    0    0    0    0    0    0\n",
            "    0    0    0    0    0    0    0    0    0    0    0    0    0    0\n",
            "    0    0    0    0    0    0    0    0    0    0    0    0]\n",
            "\n",
            "Tokenized/Filtered/Padded sample question: \n",
            "[8277   57    3   57    3   12    9   30 3643   22   52   11   18   10\n",
            " 2967 7294  971 8278    0    0    0    0    0    0    0    0    0    0\n",
            "    0    0    0    0    0    0    0    0    0    0    0    0]\n",
            "Tokenized/Filtered/Padded sample answer: \n",
            "[8277 2851 3588    1 8278    0    0    0    0    0    0    0    0    0\n",
            "    0    0    0    0    0    0    0    0    0    0    0    0    0    0\n",
            "    0    0    0    0    0    0    0    0    0    0    0    0]\n"
          ]
        }
      ],
      "source": [
        "# Tokenize, filter and pad sentences\n",
        "def tokenize_and_filter(inputs, outputs):\n",
        "  tokenized_inputs, tokenized_outputs = [], []\n",
        "  \n",
        "  for (sentence1, sentence2) in zip(inputs, outputs):\n",
        "    # Tokenize sentence\n",
        "    sentence1 = START_TOKEN + tokenizer.encode(sentence1) + END_TOKEN\n",
        "    sentence2 = START_TOKEN + tokenizer.encode(sentence2) + END_TOKEN\n",
        "    # Filter: Drop sentences, if its length exceeds defined max length.\n",
        "    if len(sentence1) <= MAX_LENGTH and len(sentence2) <= MAX_LENGTH:\n",
        "      tokenized_inputs.append(sentence1)\n",
        "      tokenized_outputs.append(sentence2)\n",
        "  \n",
        "  # Pad tokenized sentences\n",
        "  tokenized_inputs = tf.keras.preprocessing.sequence.pad_sequences(\n",
        "      tokenized_inputs, maxlen=MAX_LENGTH, padding='post')\n",
        "  tokenized_outputs = tf.keras.preprocessing.sequence.pad_sequences(\n",
        "      tokenized_outputs, maxlen=MAX_LENGTH, padding='post')\n",
        "  \n",
        "  return tokenized_inputs, tokenized_outputs\n",
        "\n",
        "\n",
        "print('Maximum sentence length defined ==> ', MAX_LENGTH)\n",
        "questions, answers = tokenize_and_filter(questions, answers)\n",
        "print('Tokenization of sentences, Filtering of bigger sentences, Padding of sentences, Completed !!!')\n",
        "\n",
        "print('\\nTotal number of questions: {}'.format(len(questions)))\n",
        "for i in range(0,5):\n",
        "    print('\\nTokenized/Filtered/Padded sample question: \\n{}'.format(questions[i]))\n",
        "    print('Tokenized/Filtered/Padded sample answer: \\n{}'.format(answers[i]))"
      ]
    },
    {
      "cell_type": "markdown",
      "metadata": {
        "id": "S50jT4upWh5c"
      },
      "source": [
        "### Create `Dataset`\n",
        "\n",
        "- [tf.data.Dataset API](https://www.tensorflow.org/api_docs/python/tf/data) is used to contruct the input pipline in order to utilize features like caching and prefetching, inorder to speed up the training process.\n",
        "- The transformer is an auto-regressive model: it makes predictions one part at a time, and uses its output so far to decide what to do next.\n",
        "- During training, this example uses teacher-forcing. Teacher forcing is passing the true output to the next time step regardless of what the model predicts at the current time step.\n",
        "- As the transformer predicts each word, self-attention allows it to look at the previous words in the input sequence, to better predict the next word.\n",
        "- To prevent the model from peeking at the expected output (in decoder self attention), the model uses a look-ahead mask.\n",
        "- Target dataset is divided into:\n",
        "    - `inputs` --> Input to encoder\n",
        "    - `decoder_inputs` --> Input to decoder (padded)\n",
        "    - `cropped_targets` --> Outputs used for calculating loss and accuracy\n",
        "\n",
        "#### Example:\n",
        "input[18] = array([8277, 4, 271, 3, 271, 3, 141, 385, 173, 3, 40, 4, 611, 2, ...], dtype=int32)\n",
        "<br>dec_inputs[17] = array([8277, 4, 271, 3, 271, 3, 141, 385, 173, 3, 40, 4, 611, 2, ...], dtype=int32)"
      ]
    },
    {
      "cell_type": "code",
      "execution_count": 11,
      "metadata": {
        "id": "pttC3XxgAXWQ"
      },
      "outputs": [
        {
          "name": "stdout",
          "output_type": "stream",
          "text": [
            "\n",
            "Dataset Details ==>  <TensorSliceDataset shapes: ({inputs: (40,), dec_inputs: (39,)}, {outputs: (39,)}), types: ({inputs: tf.int32, dec_inputs: tf.int32}, {outputs: tf.int32})>\n",
            "({'inputs': array([8277,   58,   22,  110,   33, 3055,   23,  956, 8141, 2941, 8053,\n",
            "       2373, 3587, 2260,   14, 7494,  937, 6596, 8053,   17,  431,   82,\n",
            "       5533, 7898,  220, 3081, 3926,  130, 1451,  741,   74,   39,    6,\n",
            "       2109, 8121,    2,  231,    1, 8278,    0], dtype=int32), 'dec_inputs': array([8277,   69,    3,    4,  175,   22,   42,  353,   38, 1079, 1587,\n",
            "       4185,  820,    3,   50,   15,    9, 1109,   38,   31,    1, 8278,\n",
            "          0,    0,    0,    0,    0,    0,    0,    0,    0,    0,    0,\n",
            "          0,    0,    0,    0,    0,    0], dtype=int32)}, {'outputs': array([  69,    3,    4,  175,   22,   42,  353,   38, 1079, 1587, 4185,\n",
            "        820,    3,   50,   15,    9, 1109,   38,   31,    1, 8278,    0,\n",
            "          0,    0,    0,    0,    0,    0,    0,    0,    0,    0,    0,\n",
            "          0,    0,    0,    0,    0,    0], dtype=int32)})\n",
            "({'inputs': array([8277,   69,    3,    4,  175,   22,   42,  353,   38, 1079, 1587,\n",
            "       4185,  820,    3,   50,   15,    9, 1109,   38,   31,    1, 8278,\n",
            "          0,    0,    0,    0,    0,    0,    0,    0,    0,    0,    0,\n",
            "          0,    0,    0,    0,    0,    0,    0], dtype=int32), 'dec_inputs': array([8277,   11,    6, 4388,   88,   14, 3635, 3087,   14, 2803, 1029,\n",
            "       1954,    2,  257,    1, 8278,    0,    0,    0,    0,    0,    0,\n",
            "          0,    0,    0,    0,    0,    0,    0,    0,    0,    0,    0,\n",
            "          0,    0,    0,    0,    0,    0], dtype=int32)}, {'outputs': array([  11,    6, 4388,   88,   14, 3635, 3087,   14, 2803, 1029, 1954,\n",
            "          2,  257,    1, 8278,    0,    0,    0,    0,    0,    0,    0,\n",
            "          0,    0,    0,    0,    0,    0,    0,    0,    0,    0,    0,\n",
            "          0,    0,    0,    0,    0,    0], dtype=int32)})\n",
            "({'inputs': array([8277,   11,    6, 4388,   88,   14, 3635, 3087,   14, 2803, 1029,\n",
            "       1954,    2,  257,    1, 8278,    0,    0,    0,    0,    0,    0,\n",
            "          0,    0,    0,    0,    0,    0,    0,    0,    0,    0,    0,\n",
            "          0,    0,    0,    0,    0,    0,    0], dtype=int32), 'dec_inputs': array([8277,  135,   28,  108,   54,   53,   22,  302,   64,   91, 1833,\n",
            "        986, 4209,  633,    2, 4709,   23,  230,    7, 8278,    0,    0,\n",
            "          0,    0,    0,    0,    0,    0,    0,    0,    0,    0,    0,\n",
            "          0,    0,    0,    0,    0,    0], dtype=int32)}, {'outputs': array([ 135,   28,  108,   54,   53,   22,  302,   64,   91, 1833,  986,\n",
            "       4209,  633,    2, 4709,   23,  230,    7, 8278,    0,    0,    0,\n",
            "          0,    0,    0,    0,    0,    0,    0,    0,    0,    0,    0,\n",
            "          0,    0,    0,    0,    0,    0], dtype=int32)})\n",
            "({'inputs': array([8277,    5,   17,  739,   36,  140,    2,   15,    9,   55, 1688,\n",
            "          2,   15,    9,   29,  299,  231,    7, 8278,    0,    0,    0,\n",
            "          0,    0,    0,    0,    0,    0,    0,    0,    0,    0,    0,\n",
            "          0,    0,    0,    0,    0,    0,    0], dtype=int32), 'dec_inputs': array([8277,  473,   35,    1, 8278,    0,    0,    0,    0,    0,    0,\n",
            "          0,    0,    0,    0,    0,    0,    0,    0,    0,    0,    0,\n",
            "          0,    0,    0,    0,    0,    0,    0,    0,    0,    0,    0,\n",
            "          0,    0,    0,    0,    0,    0], dtype=int32)}, {'outputs': array([ 473,   35,    1, 8278,    0,    0,    0,    0,    0,    0,    0,\n",
            "          0,    0,    0,    0,    0,    0,    0,    0,    0,    0,    0,\n",
            "          0,    0,    0,    0,    0,    0,    0,    0,    0,    0,    0,\n",
            "          0,    0,    0,    0,    0,    0], dtype=int32)})\n",
            "({'inputs': array([8277,   57,    3,   57,    3,   12,    9,   30, 3643,   22,   52,\n",
            "         11,   18,   10, 2967, 7294,  971, 8278,    0,    0,    0,    0,\n",
            "          0,    0,    0,    0,    0,    0,    0,    0,    0,    0,    0,\n",
            "          0,    0,    0,    0,    0,    0,    0], dtype=int32), 'dec_inputs': array([8277, 2851, 3588,    1, 8278,    0,    0,    0,    0,    0,    0,\n",
            "          0,    0,    0,    0,    0,    0,    0,    0,    0,    0,    0,\n",
            "          0,    0,    0,    0,    0,    0,    0,    0,    0,    0,    0,\n",
            "          0,    0,    0,    0,    0,    0], dtype=int32)}, {'outputs': array([2851, 3588,    1, 8278,    0,    0,    0,    0,    0,    0,    0,\n",
            "          0,    0,    0,    0,    0,    0,    0,    0,    0,    0,    0,\n",
            "          0,    0,    0,    0,    0,    0,    0,    0,    0,    0,    0,\n",
            "          0,    0,    0,    0,    0,    0], dtype=int32)})\n",
            "({'inputs': array([8277, 2851, 3588,    1, 8278,    0,    0,    0,    0,    0,    0,\n",
            "          0,    0,    0,    0,    0,    0,    0,    0,    0,    0,    0,\n",
            "          0,    0,    0,    0,    0,    0,    0,    0,    0,    0,    0,\n",
            "          0,    0,    0,    0,    0,    0,    0], dtype=int32), 'dec_inputs': array([8277,    6,  189,  143,    3, 2851, 5442,    4,   25,   61,    6,\n",
            "       3879, 8053,   16,   10, 5765, 4054,  695, 6969, 8053,   16, 2426,\n",
            "          2,   30, 1140,    2,    4,   87, 1895,  417,   56,  876,    1,\n",
            "       8278,    0,    0,    0,    0,    0], dtype=int32)}, {'outputs': array([   6,  189,  143,    3, 2851, 5442,    4,   25,   61,    6, 3879,\n",
            "       8053,   16,   10, 5765, 4054,  695, 6969, 8053,   16, 2426,    2,\n",
            "         30, 1140,    2,    4,   87, 1895,  417,   56,  876,    1, 8278,\n",
            "          0,    0,    0,    0,    0,    0], dtype=int32)})\n",
            "({'inputs': array([8277,    6,  189,  143,    3, 2851, 5442,    4,   25,   61,    6,\n",
            "       3879, 8053,   16,   10, 5765, 4054,  695, 6969, 8053,   16, 2426,\n",
            "          2,   30, 1140,    2,    4,   87, 1895,  417,   56,  876,    1,\n",
            "       8278,    0,    0,    0,    0,    0,    0], dtype=int32), 'dec_inputs': array([8277,  630,   48,   56,   83,   49,   10, 1895, 1038,  587,   46,\n",
            "       8278,    0,    0,    0,    0,    0,    0,    0,    0,    0,    0,\n",
            "          0,    0,    0,    0,    0,    0,    0,    0,    0,    0,    0,\n",
            "          0,    0,    0,    0,    0,    0], dtype=int32)}, {'outputs': array([ 630,   48,   56,   83,   49,   10, 1895, 1038,  587,   46, 8278,\n",
            "          0,    0,    0,    0,    0,    0,    0,    0,    0,    0,    0,\n",
            "          0,    0,    0,    0,    0,    0,    0,    0,    0,    0,    0,\n",
            "          0,    0,    0,    0,    0,    0], dtype=int32)})\n",
            "({'inputs': array([8277,  190,    7, 8278,    0,    0,    0,    0,    0,    0,    0,\n",
            "          0,    0,    0,    0,    0,    0,    0,    0,    0,    0,    0,\n",
            "          0,    0,    0,    0,    0,    0,    0,    0,    0,    0,    0,\n",
            "          0,    0,    0,    0,    0,    0,    0], dtype=int32), 'dec_inputs': array([8277, 2605, 1216, 5669, 5218,    2,   56,  305,    8,   34,  141,\n",
            "       6749,   80,   56,  837,  634,  589,    3,  108,   12,   32,   41,\n",
            "         48,   56,   60, 1198,   16,   12,   86,  247,    1, 8278,    0,\n",
            "          0,    0,    0,    0,    0,    0], dtype=int32)}, {'outputs': array([2605, 1216, 5669, 5218,    2,   56,  305,    8,   34,  141, 6749,\n",
            "         80,   56,  837,  634,  589,    3,  108,   12,   32,   41,   48,\n",
            "         56,   60, 1198,   16,   12,   86,  247,    1, 8278,    0,    0,\n",
            "          0,    0,    0,    0,    0,    0], dtype=int32)})\n",
            "({'inputs': array([8277, 2605, 1216, 5669, 5218,    2,   56,  305,    8,   34,  141,\n",
            "       6749,   80,   56,  837,  634,  589,    3,  108,   12,   32,   41,\n",
            "         48,   56,   60, 1198,   16,   12,   86,  247,    1, 8278,    0,\n",
            "          0,    0,    0,    0,    0,    0,    0], dtype=int32), 'dec_inputs': array([8277,   15,    9,   10, 5716,    1, 8278,    0,    0,    0,    0,\n",
            "          0,    0,    0,    0,    0,    0,    0,    0,    0,    0,    0,\n",
            "          0,    0,    0,    0,    0,    0,    0,    0,    0,    0,    0,\n",
            "          0,    0,    0,    0,    0,    0], dtype=int32)}, {'outputs': array([  15,    9,   10, 5716,    1, 8278,    0,    0,    0,    0,    0,\n",
            "          0,    0,    0,    0,    0,    0,    0,    0,    0,    0,    0,\n",
            "          0,    0,    0,    0,    0,    0,    0,    0,    0,    0,    0,\n",
            "          0,    0,    0,    0,    0,    0], dtype=int32)})\n",
            "({'inputs': array([8277, 4795, 8125,    3,   50,  128,   22,   83,  169, 2119, 8053,\n",
            "         10, 3023,   46, 8278,    0,    0,    0,    0,    0,    0,    0,\n",
            "          0,    0,    0,    0,    0,    0,    0,    0,    0,    0,    0,\n",
            "          0,    0,    0,    0,    0,    0,    0], dtype=int32), 'dec_inputs': array([8277,   93,   36,   90,   21,    4,   58,  120,    1, 8278,    0,\n",
            "          0,    0,    0,    0,    0,    0,    0,    0,    0,    0,    0,\n",
            "          0,    0,    0,    0,    0,    0,    0,    0,    0,    0,    0,\n",
            "          0,    0,    0,    0,    0,    0], dtype=int32)}, {'outputs': array([  93,   36,   90,   21,    4,   58,  120,    1, 8278,    0,    0,\n",
            "          0,    0,    0,    0,    0,    0,    0,    0,    0,    0,    0,\n",
            "          0,    0,    0,    0,    0,    0,    0,    0,    0,    0,    0,\n",
            "          0,    0,    0,    0,    0,    0], dtype=int32)})\n",
            "({'inputs': array([8277,  387, 5051, 8053,  906,  603,  603,    2,   33,    9,   30,\n",
            "        462, 8278,    0,    0,    0,    0,    0,    0,    0,    0,    0,\n",
            "          0,    0,    0,    0,    0,    0,    0,    0,    0,    0,    0,\n",
            "          0,    0,    0,    0,    0,    0,    0], dtype=int32), 'dec_inputs': array([8277,  101,    2,  227,   23,    5,   17,  723,   27,    6, 1275,\n",
            "       8143,    1, 8278,    0,    0,    0,    0,    0,    0,    0,    0,\n",
            "          0,    0,    0,    0,    0,    0,    0,    0,    0,    0,    0,\n",
            "          0,    0,    0,    0,    0,    0], dtype=int32)}, {'outputs': array([ 101,    2,  227,   23,    5,   17,  723,   27,    6, 1275, 8143,\n",
            "          1, 8278,    0,    0,    0,    0,    0,    0,    0,    0,    0,\n",
            "          0,    0,    0,    0,    0,    0,    0,    0,    0,    0,    0,\n",
            "          0,    0,    0,    0,    0,    0], dtype=int32)})\n"
          ]
        }
      ],
      "source": [
        "# decoder inputs use the previous target as input\n",
        "# remove START_TOKEN from targets\n",
        "dataset = tf.data.Dataset.from_tensor_slices((\n",
        "    {\n",
        "        'inputs': questions,\n",
        "        'dec_inputs': answers[:, :-1]\n",
        "    },\n",
        "    {\n",
        "        'outputs': answers[:, 1:]\n",
        "    },\n",
        "))\n",
        "\n",
        "print('\\nDataset Details ==> ', dataset)\n",
        "for idx, element in enumerate(dataset.as_numpy_iterator()):\n",
        "    print(element)\n",
        "    if idx == 10:\n",
        "        break\n",
        "\n",
        "# De\n",
        "dataset = dataset.cache()\n",
        "dataset = dataset.shuffle(BUFFER_SIZE)\n",
        "dataset = dataset.batch(BATCH_SIZE)\n",
        "dataset = dataset.prefetch(tf.data.experimental.AUTOTUNE)"
      ]
    },
    {
      "cell_type": "markdown",
      "metadata": {
        "id": "s9eeMPjGXmI1"
      },
      "source": [
        "## Attention\n",
        "\n"
      ]
    },
    {
      "cell_type": "markdown",
      "metadata": {
        "id": "uctkwvPZVSzu"
      },
      "source": [
        "### Scaled dot product Attention"
      ]
    },
    {
      "cell_type": "markdown",
      "metadata": {},
      "source": [
        "<img src=\"https://www.tensorflow.org/images/tutorials/transformer/scaled_attention.png\" width=\"500\" alt=\"Scaled Dot-product attention\">\n",
        "\n",
        "The scaled dot-product attention function used by the transformer takes three inputs: Q (query), K (key), V (value). The equation used to calculate the attention weights is:\n",
        "\n",
        "$$\\Large{Attention(Q, K, V) = softmax_k(\\frac{QK^T}{\\sqrt{d_k}}) V} $$\n",
        "\n",
        "- As the softmax normalization is done on the `key`, its values decide the amount of importance given to the `query`.\n",
        "- The output represents the multiplication of the attention weights and the `value` vector. This ensures that the words we want to focus on are kept as is, and the irrelevant words are flushed out.\n",
        "- The dot-product attention is scaled by a factor of square root of the depth. This is done because, for large values of depth, the dot product grows large in magnitude pushing the softmax function where it has small gradients, resulting in a very hard softmax. \n",
        "    - For example, consider that `query` and `key` have a mean of 0 and variance of 1. Their matrix multiplication will have a mean of 0 and variance of `dk`. Hence, *square root of `dk`* is used for scaling (and not any other number) because the matmul of `query` and `key` should have a mean of 0 and variance of 1, so that we get a gentler softmax.\n",
        "- The mask is multiplied with *-1e9 (close to negative infinity).* This is done because, the mask is summed with the scaled matrix multiplication of `query` and `key`, and is applied immediately before a softmax. The goal is to zero out these cells, and large negative inputs to softmax are near zero in the output."
      ]
    },
    {
      "cell_type": "code",
      "execution_count": 12,
      "metadata": {
        "id": "ENfqAFna_50H"
      },
      "outputs": [],
      "source": [
        "# Definition for Scaled-dot-product-attention\n",
        "def scaled_dot_product_attention(query, key, value, mask):\n",
        "  \"\"\"Calculate the attention weights. \"\"\"\n",
        "  matmul_qk = tf.matmul(query, key, transpose_b=True)\n",
        "\n",
        "  # scale matmul_qk\n",
        "  depth = tf.cast(tf.shape(key)[-1], tf.float32)\n",
        "  logits = matmul_qk / tf.math.sqrt(depth)\n",
        "\n",
        "  # add the mask to zero out padding tokens\n",
        "  if mask is not None:\n",
        "    logits += (mask * -1e9)\n",
        "\n",
        "  # softmax is normalized on the last axis (seq_len_k)\n",
        "  attention_weights = tf.nn.softmax(logits, axis=-1)\n",
        "\n",
        "  output = tf.matmul(attention_weights, value)\n",
        "\n",
        "  return output"
      ]
    },
    {
      "cell_type": "markdown",
      "metadata": {
        "id": "XwmOB9HvVbyh"
      },
      "source": [
        "### Multi-head attention (Calls --> Scaled Dot-Product attention)"
      ]
    },
    {
      "cell_type": "markdown",
      "metadata": {},
      "source": [
        "<img src=\"https://www.tensorflow.org/images/tutorials/transformer/multi_head_attention.png\" width=\"500\" alt=\"multi-head attention\">\n",
        "\n",
        "- Multi-head attention consists of four parts:\n",
        "    * Linear layers and split of heads.\n",
        "    * Scaled dot-product attention.\n",
        "    * Concatenation of heads.\n",
        "    * Final linear layer.\n",
        "- Each multi-head attention block gets three inputs; Q (query), K (key), V (value). These are put through linear (Dense) layers and split up into multiple heads. \n",
        "- The `scaled_dot_product_attention` defined above is applied to each head (broadcasted for efficiency). An appropriate mask must be used in the attention step.  The attention output for each head is then concatenated (using `tf.transpose`, and `tf.reshape`) and put through a final `Dense` layer.\n",
        "- Instead of one single attention head, `query`, `key`, and `value` are split into multiple heads because it allows the model to jointly attend to information at different positions from different representational spaces. After the split, each head has a reduced dimensionality, so the total computation cost is the same as a single head attention with full dimensionality."
      ]
    },
    {
      "cell_type": "code",
      "execution_count": 13,
      "metadata": {
        "id": "L9eYssGIAG4h"
      },
      "outputs": [],
      "source": [
        "# Multi-Head Attention class definition\n",
        "class MultiHeadAttention(tf.keras.layers.Layer):\n",
        "\n",
        "  def __init__(self, d_model, num_heads, name=\"multi_head_attention\"):\n",
        "    super(MultiHeadAttention, self).__init__(name=name)\n",
        "    self.num_heads = num_heads\n",
        "    self.d_model = d_model\n",
        "\n",
        "    assert d_model % self.num_heads == 0\n",
        "\n",
        "    self.depth = d_model // self.num_heads\n",
        "\n",
        "    self.query_dense = tf.keras.layers.Dense(units=d_model)\n",
        "    self.key_dense = tf.keras.layers.Dense(units=d_model)\n",
        "    self.value_dense = tf.keras.layers.Dense(units=d_model)\n",
        "\n",
        "    self.dense = tf.keras.layers.Dense(units=d_model)\n",
        "  \n",
        "  def get_config(self):\n",
        "        config = super(MultiHeadAttention,self).get_config()\n",
        "        config.update({\n",
        "            'num_heads':self.num_heads,\n",
        "            'd_model':self.d_model,\n",
        "        })\n",
        "        return config\n",
        "\n",
        "  def split_heads(self, inputs, batch_size):\n",
        "    inputs = tf.keras.layers.Lambda(lambda inputs:tf.reshape(\n",
        "        inputs, shape=(batch_size, -1, self.num_heads, self.depth)))(inputs)\n",
        "    return tf.keras.layers.Lambda(lambda inputs: tf.transpose(inputs, perm=[0, 2, 1, 3]))(inputs)\n",
        "\n",
        "  # Call each layer in multi-head attention in order\n",
        "  def call(self, inputs):\n",
        "    query, key, value, mask = inputs['query'], inputs['key'], inputs[\n",
        "        'value'], inputs['mask']\n",
        "    batch_size = tf.shape(query)[0]\n",
        "\n",
        "    # linear layers\n",
        "    query = self.query_dense(query)\n",
        "    key = self.key_dense(key)\n",
        "    value = self.value_dense(value)\n",
        "\n",
        "    # split heads\n",
        "    query = self.split_heads(query, batch_size)\n",
        "    key = self.split_heads(key, batch_size)\n",
        "    value = self.split_heads(value, batch_size)\n",
        "\n",
        "    # scaled dot-product attention\n",
        "    scaled_attention = scaled_dot_product_attention(query, key, value, mask)\n",
        "    scaled_attention = tf.keras.layers.Lambda(lambda scaled_attention: tf.transpose(\n",
        "        scaled_attention, perm=[0, 2, 1, 3]))(scaled_attention)\n",
        "\n",
        "    # concatenation of heads\n",
        "    concat_attention = tf.keras.layers.Lambda(lambda scaled_attention: tf.reshape(scaled_attention,\n",
        "                                  (batch_size, -1, self.d_model)))(scaled_attention)\n",
        "\n",
        "    # final linear layer\n",
        "    outputs = self.dense(concat_attention)\n",
        "\n",
        "    return outputs    "
      ]
    },
    {
      "cell_type": "markdown",
      "metadata": {
        "id": "eDUX7Oa8Xudj"
      },
      "source": [
        "## Transformer"
      ]
    },
    {
      "cell_type": "markdown",
      "metadata": {
        "id": "x5QlgXsxYirg"
      },
      "source": [
        "### Transformer Model"
      ]
    },
    {
      "cell_type": "markdown",
      "metadata": {},
      "source": [
        "\n",
        "This transformer model is modeled after the model proposed by Vaswani et al. (2017).\n",
        "\n",
        "<img src=\"https://www.tensorflow.org/images/tutorials/transformer/transformer.png\" width=\"500\" alt=\"Transformer Model\">"
      ]
    },
    {
      "cell_type": "markdown",
      "metadata": {
        "id": "0CX5H8A-Wybj"
      },
      "source": [
        "### Step1: Create masking definitions:"
      ]
    },
    {
      "cell_type": "markdown",
      "metadata": {},
      "source": [
        "`create_padding_mask` and `create_look_ahead` are helper functions for creating masks, to mask out padded tokens. \n",
        "These helper functions are used as `tf.keras.layers.Lambda` layers.\n",
        "- Mask all the pad tokens (value `0`) in the batch to ensure the model does not treat padding as input."
      ]
    },
    {
      "cell_type": "code",
      "execution_count": 15,
      "metadata": {
        "id": "imCQ0jrvWhC7"
      },
      "outputs": [
        {
          "name": "stdout",
          "output_type": "stream",
          "text": [
            "tf.Tensor(\n",
            "[[[[0. 0. 1. 0. 1.]]]\n",
            "\n",
            "\n",
            " [[[1. 1. 1. 0. 0.]]]], shape=(2, 1, 1, 5), dtype=float32)\n"
          ]
        }
      ],
      "source": [
        "# Defintion to mask the padded zeros. Output is encoded to \"1\" for padded \"0\"s\n",
        "def create_padding_mask(x):\n",
        "  mask = tf.cast(tf.math.equal(x, 0), tf.float32)\n",
        "  # (batch_size, 1, 1, sequence length)\n",
        "  return mask[:, tf.newaxis, tf.newaxis, :]\n",
        "\n",
        "print(create_padding_mask(tf.constant([[1, 2, 0, 3, 0], [0, 0, 0, 4, 5]])))"
      ]
    },
    {
      "cell_type": "markdown",
      "metadata": {
        "id": "qJAicy1zW1QT"
      },
      "source": [
        "- Look-ahead mask to mask the future tokens in a sequence. \n",
        "    - Pad tokens are also masked out. i.e. To predict the third word, only the first and second word will be used"
      ]
    },
    {
      "cell_type": "code",
      "execution_count": 16,
      "metadata": {
        "id": "HSVdD2zKWaXx"
      },
      "outputs": [
        {
          "name": "stdout",
          "output_type": "stream",
          "text": [
            "tf.Tensor(\n",
            "[[[[0. 1. 1. 1. 1.]\n",
            "   [0. 0. 1. 1. 1.]\n",
            "   [0. 0. 1. 1. 1.]\n",
            "   [0. 0. 1. 0. 1.]\n",
            "   [0. 0. 1. 0. 0.]]]], shape=(1, 1, 5, 5), dtype=float32)\n"
          ]
        }
      ],
      "source": [
        "# Definition to mask the future tokens to facilitate decoder learning\n",
        "def create_look_ahead_mask(x):\n",
        "  seq_len = tf.shape(x)[1]\n",
        "  look_ahead_mask = 1 - tf.linalg.band_part(tf.ones((seq_len, seq_len)), -1, 0)\n",
        "  padding_mask = create_padding_mask(x)\n",
        "  return tf.maximum(look_ahead_mask, padding_mask)\n",
        "\n",
        "print(create_look_ahead_mask(tf.constant([[1, 2, 0, 4, 5]])))"
      ]
    },
    {
      "cell_type": "markdown",
      "metadata": {
        "id": "TpR7kz4jFkPJ"
      },
      "source": [
        "### Step2: Positional encoding"
      ]
    },
    {
      "cell_type": "markdown",
      "metadata": {},
      "source": [
        "Since this model doesn't contain any recurrence or convolution, positional encoding is added to give the model some information about the relative position of the words in the sentence. \n",
        "\n",
        "The positional encoding vector is added to the embedding vector. Embeddings represent a token in a d-dimensional space where tokens with similar meaning will be closer to each other. But the embeddings do not encode the relative position of words in a sentence. So after adding the positional encoding, words will be closer to each other based on the *similarity of their meaning and their position in the sentence*, in the d-dimensional space. See the notebook on [positional encoding](https://github.com/tensorflow/examples/blob/master/community/en/position_encoding.ipynb) to learn more about it. \n",
        "\n",
        "The formula for calculating the positional encoding is as follows:\n",
        "\n",
        "$$\\Large{PE_{(pos, 2i)} = sin(pos / 10000^{2i / d_{model}})} $$\n",
        "$$\\Large{PE_{(pos, 2i+1)} = cos(pos / 10000^{2i / d_{model}})} $$"
      ]
    },
    {
      "cell_type": "code",
      "execution_count": 17,
      "metadata": {
        "id": "-9Oibz2es-qW"
      },
      "outputs": [],
      "source": [
        "# Class definition for positional Encoding\n",
        "class PositionalEncoding(tf.keras.layers.Layer):\n",
        "\n",
        "  def __init__(self, position, d_model):\n",
        "    super(PositionalEncoding, self).__init__()\n",
        "    self.pos_encoding = self.positional_encoding(position, d_model)\n",
        "  \n",
        "  def get_config(self):\n",
        "\n",
        "        config = super(PositionalEncoding, self).get_config()\n",
        "        config.update({\n",
        "            'position': self.position,\n",
        "            'd_model': self.d_model,\n",
        "            \n",
        "        })\n",
        "        return config\n",
        "\n",
        "  def get_angles(self, position, i, d_model):\n",
        "    angles = 1 / tf.pow(10000, (2 * (i // 2)) / tf.cast(d_model, tf.float32))\n",
        "    return position * angles\n",
        "\n",
        "  def positional_encoding(self, position, d_model):\n",
        "    angle_rads = self.get_angles(\n",
        "        position=tf.range(position, dtype=tf.float32)[:, tf.newaxis],\n",
        "        i=tf.range(d_model, dtype=tf.float32)[tf.newaxis, :],\n",
        "        d_model=d_model)\n",
        "    # apply sin to even index in the array\n",
        "    sines = tf.math.sin(angle_rads[:, 0::2])\n",
        "    # apply cos to odd index in the array\n",
        "    cosines = tf.math.cos(angle_rads[:, 1::2])\n",
        "\n",
        "    pos_encoding = tf.concat([sines, cosines], axis=-1)\n",
        "    pos_encoding = pos_encoding[tf.newaxis, ...]\n",
        "    return tf.cast(pos_encoding, tf.float32)\n",
        "\n",
        "  def call(self, inputs):\n",
        "    return inputs + self.pos_encoding[:, :tf.shape(inputs)[1], :]"
      ]
    },
    {
      "cell_type": "code",
      "execution_count": 33,
      "metadata": {
        "colab": {
          "base_uri": "https://localhost:8080/",
          "height": 283
        },
        "id": "UC_fQehi3_Yh",
        "outputId": "c6aeef77-4076-43d5-97b0-48f7558b998d"
      },
      "outputs": [],
      "source": [
        "# sample_pos_encoding = PositionalEncoding(50, 512)\n",
        "\n",
        "# plt.pcolormesh(sample_pos_encoding.pos_encoding.numpy()[0], cmap='RdBu')\n",
        "# plt.xlabel('Depth')\n",
        "# plt.xlim((0, 512))\n",
        "# plt.ylabel('Position')\n",
        "# plt.colorbar()\n",
        "# plt.show()"
      ]
    },
    {
      "cell_type": "markdown",
      "metadata": {
        "id": "HVazCemoW2Ye"
      },
      "source": [
        "### Step3: Create Encoder Layer (Single Layer)"
      ]
    },
    {
      "cell_type": "markdown",
      "metadata": {},
      "source": [
        "- Each encoder layer consists of sublayers:\n",
        "    1. Multi-head attention (with padding mask) \n",
        "    2. Two dense layers followed by dropout\n",
        "<br><br>\n",
        "\n",
        "- Sublayer:\n",
        "    - Each of these sublayers has a residual connection around it followed by a layer normalization. \n",
        "        - Residual connections help in avoiding the vanishing gradient problem in deep networks.\n",
        "    - The output of each sublayer is `LayerNorm(x + Sublayer(x))`. \n",
        "        - The normalization is done on the `d_model` (last) axis."
      ]
    },
    {
      "cell_type": "code",
      "execution_count": 32,
      "metadata": {
        "id": "5guJOLJmfcuX"
      },
      "outputs": [],
      "source": [
        "# Definition for Encoder layer (Single layer - N1)\n",
        "def encoder_layer(units, d_model, num_heads, dropout, name=\"encoder_layer\"):\n",
        "  \n",
        "  inputs = tf.keras.Input(shape=(None, d_model), name=\"inputs\")\n",
        "  # Create padding mask\n",
        "  padding_mask = tf.keras.Input(shape=(1, 1, None), name=\"padding_mask\")\n",
        "\n",
        "  # Call for Multi-head attention\n",
        "  attention = MultiHeadAttention(\n",
        "      d_model, num_heads, name=\"attention\")({\n",
        "          'query': inputs,\n",
        "          'key': inputs,\n",
        "          'value': inputs,\n",
        "          'mask': padding_mask\n",
        "      })\n",
        "  attention = tf.keras.layers.Dropout(rate=dropout)(attention)\n",
        "  add_attention = tf.keras.layers.add([inputs,attention])\n",
        "  attention = tf.keras.layers.LayerNormalization(epsilon=1e-6)(add_attention)\n",
        "\n",
        "  # Two dense layers followed by dropout\n",
        "  outputs = tf.keras.layers.Dense(units=units, activation='relu')(attention)\n",
        "  outputs = tf.keras.layers.Dense(units=d_model)(outputs)\n",
        "  outputs = tf.keras.layers.Dropout(rate=dropout)(outputs)\n",
        "  add_attention = tf.keras.layers.add([attention,outputs])\n",
        "  outputs = tf.keras.layers.LayerNormalization(epsilon=1e-6)(add_attention)\n",
        "\n",
        "  return tf.keras.Model(\n",
        "      inputs=[inputs, padding_mask], outputs=outputs, name=name)"
      ]
    },
    {
      "cell_type": "code",
      "execution_count": 34,
      "metadata": {
        "colab": {
          "base_uri": "https://localhost:8080/",
          "height": 1000
        },
        "id": "K16BIGSKfkve",
        "outputId": "79328971-65e1-4bc1-f71f-bb498b762026"
      },
      "outputs": [],
      "source": [
        "# sample_encoder_layer = encoder_layer(\n",
        "    # units=512,\n",
        "    # d_model=128,\n",
        "    # num_heads=4,\n",
        "    # dropout=0.3,\n",
        "    # name=\"sample_encoder_layer\")\n",
        "\n",
        "# tf.keras.utils.plot_model(sample_encoder_layer, to_file='encoder_layer.png', show_shapes=True)"
      ]
    },
    {
      "cell_type": "markdown",
      "metadata": {
        "id": "9r8lWGClfi_1"
      },
      "source": [
        "### Step4: Create Encoder (Consists of Nx Layers)"
      ]
    },
    {
      "cell_type": "markdown",
      "metadata": {},
      "source": [
        "The Encoder consists of:\n",
        "1.   Input Embedding\n",
        "2.   Positional Encoding\n",
        "3.   `num_layers` encoder layers (Nx)\n",
        "\n",
        "Explanation:\n",
        "- The input is put through an embedding which is summed with the positional encoding. \n",
        "- The output of this summation is the input to the encoder layers. \n",
        "- The output of the encoder is the input to the decoder."
      ]
    },
    {
      "cell_type": "code",
      "execution_count": 35,
      "metadata": {
        "id": "LRfugon5Wy-Y"
      },
      "outputs": [],
      "source": [
        "# Definition for Encoder (Consists of Nx Layers)\n",
        "def encoder(vocab_size,\n",
        "            num_layers,\n",
        "            units,\n",
        "            d_model,\n",
        "            num_heads,\n",
        "            dropout,\n",
        "            name=\"encoder\"):\n",
        "  inputs = tf.keras.Input(shape=(None,), name=\"inputs\")\n",
        "  # Create padding mask\n",
        "  padding_mask = tf.keras.Input(shape=(1, 1, None), name=\"padding_mask\")\n",
        "\n",
        "  # Create word embeddings\n",
        "  embeddings = tf.keras.layers.Embedding(vocab_size, d_model)(inputs)\n",
        "  embeddings *= tf.keras.layers.Lambda(lambda d_model: tf.math.sqrt(tf.cast(d_model, tf.float32)))(d_model)\n",
        "  embeddings = PositionalEncoding(vocab_size,d_model)(embeddings)\n",
        "\n",
        "  outputs = tf.keras.layers.Dropout(rate=dropout)(embeddings)\n",
        "\n",
        "  # Loop through for Nx Layers\n",
        "  for i in range(num_layers):\n",
        "    outputs = encoder_layer(\n",
        "        units=units,\n",
        "        d_model=d_model,\n",
        "        num_heads=num_heads,\n",
        "        dropout=dropout,\n",
        "        name=\"encoder_layer_{}\".format(i),\n",
        "    )([outputs, padding_mask])\n",
        "\n",
        "  return tf.keras.Model(\n",
        "      inputs=[inputs, padding_mask], outputs=outputs, name=name)"
      ]
    },
    {
      "cell_type": "code",
      "execution_count": 36,
      "metadata": {
        "colab": {
          "base_uri": "https://localhost:8080/",
          "height": 754
        },
        "id": "bNxCnjrvglnx",
        "outputId": "fba96682-4659-4e93-effb-fcaa841ee13c"
      },
      "outputs": [],
      "source": [
        "# sample_encoder = encoder(\n",
        "#     vocab_size=8192,\n",
        "#     num_layers=2,\n",
        "#     units=512,\n",
        "#     d_model=128,\n",
        "#     num_heads=4,\n",
        "#     dropout=0.3,\n",
        "#     name=\"sample_encoder\")\n",
        "\n",
        "# tf.keras.utils.plot_model(\n",
        "#    sample_encoder, to_file='encoder.png', show_shapes=True)"
      ]
    },
    {
      "cell_type": "markdown",
      "metadata": {
        "id": "af66azvgW9P-"
      },
      "source": [
        "### Step5: Create decoder layer (Single Layer)"
      ]
    },
    {
      "cell_type": "markdown",
      "metadata": {},
      "source": [
        "Each decoder layer consists of sublayers:\n",
        "\n",
        "1.   Masked multi-head attention (with look ahead mask and padding mask)\n",
        "2.   Multi-head attention (with padding mask). \n",
        "    - `value` and `key` receive the *encoder output* as inputs. \n",
        "    - `query` receives the *output from the masked multi-head attention sublayer.*\n",
        "3.   Two dense layers followed by dropout\n",
        "\n",
        "Description of Masked Multi-Head Attention:\n",
        "- Each of these sublayers has a residual connection around it followed by a layer normalization. \n",
        "- The output of each sublayer is `LayerNorm(x + Sublayer(x))`. The normalization is done on the `d_model` (last) axis.\n",
        "\n",
        "Description of Multi-Head Attention:\n",
        "- As `query` receives the output from decoder's first attention block, and `key` receives the encoder output, the attention weights represent the importance given to the decoder's input based on the encoder's output. In other words, the decoder predicts the next word by looking at the encoder output and self-attending to its own output. See the demonstration above in the scaled dot product attention section."
      ]
    },
    {
      "cell_type": "code",
      "execution_count": 37,
      "metadata": {
        "id": "6mLvvNMWgDnf"
      },
      "outputs": [],
      "source": [
        "# Definition for decoder layer (Single layer)\n",
        "def decoder_layer(units, d_model, num_heads, dropout, name=\"decoder_layer\"):\n",
        "  inputs = tf.keras.Input(shape=(None, d_model), name=\"inputs\")\n",
        "  enc_outputs = tf.keras.Input(shape=(None, d_model), name=\"encoder_outputs\")\n",
        "  \n",
        "  # Look ahead masking and padded masking\n",
        "  look_ahead_mask = tf.keras.Input(\n",
        "      shape=(1, None, None), name=\"look_ahead_mask\")\n",
        "  padding_mask = tf.keras.Input(shape=(1, 1, None), name='padding_mask')\n",
        "\n",
        "  # Masked Multi-head attention\n",
        "  attention1 = MultiHeadAttention(\n",
        "      d_model, num_heads, name=\"attention_1\")(inputs={\n",
        "          'query': inputs,\n",
        "          'key': inputs,\n",
        "          'value': inputs,\n",
        "          'mask': look_ahead_mask\n",
        "      })\n",
        "  add_attention = tf.keras.layers.add([attention1,inputs])    \n",
        "  attention1 = tf.keras.layers.LayerNormalization(epsilon=1e-6)(add_attention)\n",
        "\n",
        "  # Multi-Head attention\n",
        "  attention2 = MultiHeadAttention(\n",
        "      d_model, num_heads, name=\"attention_2\")(inputs={\n",
        "          'query': attention1,\n",
        "          'key': enc_outputs,\n",
        "          'value': enc_outputs,\n",
        "          'mask': padding_mask\n",
        "      })\n",
        "  attention2 = tf.keras.layers.Dropout(rate=dropout)(attention2)\n",
        "  add_attention = tf.keras.layers.add([attention2,attention1])\n",
        "  attention2 = tf.keras.layers.LayerNormalization(epsilon=1e-6)(add_attention)\n",
        "\n",
        "  # Two dense layer and dropout\n",
        "  outputs = tf.keras.layers.Dense(units=units, activation='relu')(attention2)\n",
        "  outputs = tf.keras.layers.Dense(units=d_model)(outputs)\n",
        "  outputs = tf.keras.layers.Dropout(rate=dropout)(outputs)\n",
        "  add_attention = tf.keras.layers.add([outputs,attention2])\n",
        "  outputs = tf.keras.layers.LayerNormalization(epsilon=1e-6)(add_attention)\n",
        "\n",
        "  return tf.keras.Model(\n",
        "      inputs=[inputs, enc_outputs, look_ahead_mask, padding_mask],\n",
        "      outputs=outputs,\n",
        "      name=name)"
      ]
    },
    {
      "cell_type": "code",
      "execution_count": 38,
      "metadata": {
        "colab": {
          "base_uri": "https://localhost:8080/",
          "height": 1000
        },
        "id": "8M1NrQ_NgEaM",
        "outputId": "12e3fb73-d13e-4c0a-f96a-bcb1d1691204"
      },
      "outputs": [],
      "source": [
        "# sample_decoder_layer = decoder_layer(\n",
        "#     units=512,\n",
        "#     d_model=128,\n",
        "#     num_heads=4,\n",
        "#     dropout=0.3,\n",
        "#     name=\"sample_decoder_layer\")\n",
        "\n",
        "# tf.keras.utils.plot_model(\n",
        "#     sample_decoder_layer, to_file='decoder_layer.png', show_shapes=True)"
      ]
    },
    {
      "cell_type": "markdown",
      "metadata": {
        "id": "NPSKnjS-gE_q"
      },
      "source": [
        "### Step6: Create decoder (Consists of Nx layers)"
      ]
    },
    {
      "cell_type": "markdown",
      "metadata": {},
      "source": [
        "The Decoder consists of:\n",
        "1. Output Embedding\n",
        "2. Positional Encoding\n",
        "3. N decoder layers\n",
        "\n",
        "Explanation:\n",
        "- The target is put through an embedding which is summed with the positional encoding. \n",
        "- The output of this summation is the input to the decoder layers. \n",
        "- The output of the decoder is the input to the final linear layer."
      ]
    },
    {
      "cell_type": "code",
      "execution_count": 39,
      "metadata": {
        "id": "dYRx7YzCW4bu"
      },
      "outputs": [],
      "source": [
        "# Definition of Decoder (Consists of Nx layers)\n",
        "def decoder(vocab_size,\n",
        "            num_layers,\n",
        "            units,\n",
        "            d_model,\n",
        "            num_heads,\n",
        "            dropout,\n",
        "            name='decoder'):\n",
        "  inputs = tf.keras.Input(shape=(None,), name='inputs')\n",
        "  enc_outputs = tf.keras.Input(shape=(None, d_model), name='encoder_outputs')\n",
        "  look_ahead_mask = tf.keras.Input(\n",
        "      shape=(1, None, None), name='look_ahead_mask')\n",
        "  padding_mask = tf.keras.Input(shape=(1, 1, None), name='padding_mask')\n",
        "  \n",
        "  # Word embeddings for input to decoder layer\n",
        "  embeddings = tf.keras.layers.Embedding(vocab_size, d_model)(inputs)\n",
        "  embeddings *= tf.keras.layers.Lambda(lambda d_model: tf.math.sqrt(tf.cast(d_model, tf.float32)))(d_model)\n",
        "  embeddings = PositionalEncoding(vocab_size, d_model)(embeddings)\n",
        "\n",
        "  outputs = tf.keras.layers.Dropout(rate=dropout)(embeddings)\n",
        "\n",
        "  # Loop through Nx Layers\n",
        "  for i in range(num_layers):\n",
        "    outputs = decoder_layer(\n",
        "        units=units,\n",
        "        d_model=d_model,\n",
        "        num_heads=num_heads,\n",
        "        dropout=dropout,\n",
        "        name='decoder_layer_{}'.format(i),\n",
        "    )(inputs=[outputs, enc_outputs, look_ahead_mask, padding_mask])\n",
        "\n",
        "  return tf.keras.Model(\n",
        "      inputs=[inputs, enc_outputs, look_ahead_mask, padding_mask],\n",
        "      outputs=outputs,\n",
        "      name=name)"
      ]
    },
    {
      "cell_type": "code",
      "execution_count": 40,
      "metadata": {
        "colab": {
          "base_uri": "https://localhost:8080/",
          "height": 774
        },
        "id": "tUdK8jb9hlTZ",
        "outputId": "50aa4972-1374-4e49-88af-326e0443f0ca"
      },
      "outputs": [],
      "source": [
        "# sample_decoder = decoder(\n",
        "#     vocab_size=8192,\n",
        "#     num_layers=2,\n",
        "#     units=512,\n",
        "#     d_model=128,\n",
        "#     num_heads=4,\n",
        "#     dropout=0.3,\n",
        "#     name=\"sample_decoder\")\n",
        "\n",
        "# tf.keras.utils.plot_model(\n",
        "#     sample_decoder, to_file='decoder.png', show_shapes=True)"
      ]
    },
    {
      "cell_type": "markdown",
      "metadata": {
        "id": "yl0o97RJXAqw"
      },
      "source": [
        "### Step7: Create transformer"
      ]
    },
    {
      "cell_type": "markdown",
      "metadata": {},
      "source": [
        "Transformer consists of the encoder, decoder and a final linear layer. The output of the decoder is the input to the linear layer and its output is returned."
      ]
    },
    {
      "cell_type": "code",
      "execution_count": 41,
      "metadata": {
        "id": "TW-v7Fz6XAfC"
      },
      "outputs": [],
      "source": [
        "# definition for transformer\n",
        "def transformer(vocab_size,\n",
        "                num_layers,\n",
        "                units,\n",
        "                d_model,\n",
        "                num_heads,\n",
        "                dropout,\n",
        "                name=\"transformer\"):\n",
        "  \n",
        "  # Inputs to Encoder and Decoder\n",
        "  inputs = tf.keras.Input(shape=(None,), name=\"inputs\")\n",
        "  dec_inputs = tf.keras.Input(shape=(None,), name=\"dec_inputs\")\n",
        "\n",
        "  # Padding mask for encoder\n",
        "  enc_padding_mask = tf.keras.layers.Lambda(\n",
        "      create_padding_mask, output_shape=(1, 1, None),\n",
        "      name='enc_padding_mask')(inputs)\n",
        "  \n",
        "  # mask the future tokens for decoder inputs at the 1st attention block\n",
        "  look_ahead_mask = tf.keras.layers.Lambda(\n",
        "      create_look_ahead_mask,\n",
        "      output_shape=(1, None, None),\n",
        "      name='look_ahead_mask')(dec_inputs)\n",
        "  \n",
        "  # mask the encoder outputs for the 2nd attention block\n",
        "  dec_padding_mask = tf.keras.layers.Lambda(\n",
        "      create_padding_mask, output_shape=(1, 1, None),\n",
        "      name='dec_padding_mask')(inputs)\n",
        "\n",
        "  # Call Encoder with Encoder input (inputs)\n",
        "  # Output of encoder = enc_outputs\n",
        "  enc_outputs = encoder(\n",
        "      vocab_size=vocab_size,\n",
        "      num_layers=num_layers,\n",
        "      units=units,\n",
        "      d_model=d_model,\n",
        "      num_heads=num_heads,\n",
        "      dropout=dropout,\n",
        "  )(inputs=[inputs, enc_padding_mask])\n",
        "\n",
        "  # Call Decoder with Decoder input (dec_inputs)\n",
        "  # Also, Encoder output (enc_outputs), look-ahead-mask & padding-mask\n",
        "  dec_outputs = decoder(\n",
        "      vocab_size=vocab_size,\n",
        "      num_layers=num_layers,\n",
        "      units=units,\n",
        "      d_model=d_model,\n",
        "      num_heads=num_heads,\n",
        "      dropout=dropout,\n",
        "  )(inputs=[dec_inputs, enc_outputs, look_ahead_mask, dec_padding_mask])\n",
        "\n",
        "  # Final linear layer\n",
        "  outputs = tf.keras.layers.Dense(units=vocab_size, name=\"outputs\")(dec_outputs)\n",
        "\n",
        "  return tf.keras.Model(inputs=[inputs, dec_inputs], outputs=outputs, name=name)"
      ]
    },
    {
      "cell_type": "code",
      "execution_count": 42,
      "metadata": {
        "colab": {
          "base_uri": "https://localhost:8080/",
          "height": 553
        },
        "id": "aihJLVq_iJ_T",
        "outputId": "682b0d2b-23f2-4a55-fe6a-238f2d3ac00a"
      },
      "outputs": [],
      "source": [
        "# sample_transformer = transformer(\n",
        "#     vocab_size=8192,\n",
        "#     num_layers=4,\n",
        "#     units=512,\n",
        "#     d_model=128,\n",
        "#     num_heads=4,\n",
        "#     dropout=0.3,\n",
        "#     name=\"sample_transformer\")\n",
        "\n",
        "# tf.keras.utils.plot_model(\n",
        "#     sample_transformer, to_file='transformer.png', show_shapes=True)"
      ]
    },
    {
      "cell_type": "markdown",
      "metadata": {
        "id": "9HD7GK-nh_KT"
      },
      "source": [
        "## Train model"
      ]
    },
    {
      "cell_type": "markdown",
      "metadata": {
        "id": "0_GCb0LaV1tI"
      },
      "source": [
        "### Step1: Create loss function (Input to model)"
      ]
    },
    {
      "cell_type": "markdown",
      "metadata": {},
      "source": [
        "Since the target sequences are padded, it is important to apply a padding mask when calculating the loss."
      ]
    },
    {
      "cell_type": "code",
      "execution_count": 43,
      "metadata": {
        "id": "UInVM9iGAMv1"
      },
      "outputs": [],
      "source": [
        "# Definition for loss function\n",
        "def loss_function(y_true, y_pred):\n",
        "  y_true = tf.reshape(y_true, shape=(-1, MAX_LENGTH - 1))\n",
        "  \n",
        "  loss = tf.keras.losses.SparseCategoricalCrossentropy(\n",
        "      from_logits=True, reduction='none')(y_true, y_pred)\n",
        "\n",
        "  mask = tf.cast(tf.not_equal(y_true, 0), tf.float32)\n",
        "  loss = tf.multiply(loss, mask)\n",
        "\n",
        "  return tf.reduce_mean(loss)"
      ]
    },
    {
      "cell_type": "markdown",
      "metadata": {
        "id": "XvFM9ajSVybP"
      },
      "source": [
        "### Step2: Custom learning rate (Input to model)"
      ]
    },
    {
      "cell_type": "markdown",
      "metadata": {},
      "source": [
        "Use the Adam optimizer with a custom learning rate scheduler according to the formula in the [paper](https://arxiv.org/abs/1706.03762).\n",
        "\n",
        "$$\\Large{lrate = d_{model}^{-0.5} * min(step{\\_}num^{-0.5}, step{\\_}num * warmup{\\_}steps^{-1.5})}$$"
      ]
    },
    {
      "cell_type": "code",
      "execution_count": 44,
      "metadata": {
        "id": "WW3SeLDhAMJd"
      },
      "outputs": [],
      "source": [
        "# Class definition for custom learning rate\n",
        "class CustomSchedule(tf.keras.optimizers.schedules.LearningRateSchedule):\n",
        "\n",
        "  def __init__(self, d_model, warmup_steps=4000):\n",
        "    super(CustomSchedule, self).__init__()\n",
        "    \n",
        "    self.d_model = tf.constant(d_model,dtype=tf.float32)\n",
        "    self.warmup_steps = warmup_steps\n",
        "    \n",
        "  def get_config(self):\n",
        "        return {\"d_model\": self.d_model,\"warmup_steps\":self.warmup_steps}\n",
        "    \n",
        "  def __call__(self, step):\n",
        "    arg1 = tf.math.rsqrt(step)\n",
        "    arg2 = step * (self.warmup_steps**-1.5)\n",
        "\n",
        "    return tf.math.multiply(tf.math.rsqrt(self.d_model), tf.math.minimum(arg1, arg2))"
      ]
    },
    {
      "cell_type": "code",
      "execution_count": 50,
      "metadata": {
        "colab": {
          "base_uri": "https://localhost:8080/",
          "height": 296
        },
        "id": "67BoG_UeaHHw",
        "outputId": "5da1c5f3-cd54-48ab-b7c8-f34b9b1cb3ab"
      },
      "outputs": [],
      "source": [
        "# sample_learning_rate = CustomSchedule(d_model=128)\n",
        "\n",
        "# plt.plot(sample_learning_rate(tf.range(200000, dtype=tf.float32)))\n",
        "# plt.ylabel(\"Learning Rate\")\n",
        "# plt.xlabel(\"Train Step\")"
      ]
    },
    {
      "cell_type": "markdown",
      "metadata": {
        "id": "cCqve3kwWCxd"
      },
      "source": [
        "### Step3: Initialize and compile model (Model creation)"
      ]
    },
    {
      "cell_type": "markdown",
      "metadata": {},
      "source": [
        "Initialize and compile model with our predefined custom learning rate and Adam optimizer under the strategy scope."
      ]
    },
    {
      "cell_type": "code",
      "execution_count": 46,
      "metadata": {
        "colab": {
          "base_uri": "https://localhost:8080/",
          "height": 501
        },
        "id": "1QqojIa5WEQq",
        "outputId": "24382659-95ca-4332-eff2-6fb9b7a1ea70"
      },
      "outputs": [
        {
          "name": "stdout",
          "output_type": "stream",
          "text": [
            "Model: \"transformer\"\n",
            "__________________________________________________________________________________________________\n",
            " Layer (type)                   Output Shape         Param #     Connected to                     \n",
            "==================================================================================================\n",
            " inputs (InputLayer)            [(None, None)]       0           []                               \n",
            "                                                                                                  \n",
            " dec_inputs (InputLayer)        [(None, None)]       0           []                               \n",
            "                                                                                                  \n",
            " enc_padding_mask (Lambda)      (None, 1, 1, None)   0           ['inputs[0][0]']                 \n",
            "                                                                                                  \n",
            " encoder (Functional)           (None, None, 256)    3173632     ['inputs[0][0]',                 \n",
            "                                                                  'enc_padding_mask[0][0]']       \n",
            "                                                                                                  \n",
            " look_ahead_mask (Lambda)       (None, 1, None, Non  0           ['dec_inputs[0][0]']             \n",
            "                                e)                                                                \n",
            "                                                                                                  \n",
            " dec_padding_mask (Lambda)      (None, 1, 1, None)   0           ['inputs[0][0]']                 \n",
            "                                                                                                  \n",
            " decoder (Functional)           (None, None, 256)    3700992     ['dec_inputs[0][0]',             \n",
            "                                                                  'encoder[0][0]',                \n",
            "                                                                  'look_ahead_mask[0][0]',        \n",
            "                                                                  'dec_padding_mask[0][0]']       \n",
            "                                                                                                  \n",
            " outputs (Dense)                (None, None, 8279)   2127703     ['decoder[0][0]']                \n",
            "                                                                                                  \n",
            "==================================================================================================\n",
            "Total params: 9,002,327\n",
            "Trainable params: 9,002,327\n",
            "Non-trainable params: 0\n",
            "__________________________________________________________________________________________________\n"
          ]
        }
      ],
      "source": [
        "# Code to compile the transformer model.\n",
        "\n",
        "# clear backend\n",
        "tf.keras.backend.clear_session()\n",
        "\n",
        "# Information on learning rate\n",
        "learning_rate = CustomSchedule(D_MODEL)\n",
        "\n",
        "# Definition for optimizer (Uses learning rate as input)\n",
        "optimizer = tf.keras.optimizers.Adam(\n",
        "    learning_rate, beta_1=0.9, beta_2=0.98, epsilon=1e-9)\n",
        "\n",
        "# Definition for model accuracy - Used for metrics\n",
        "def accuracy(y_true, y_pred):\n",
        "  # ensure labels have shape (batch_size, MAX_LENGTH - 1)\n",
        "  y_true = tf.reshape(y_true, shape=(-1, MAX_LENGTH - 1))\n",
        "  return tf.keras.metrics.sparse_categorical_accuracy(y_true, y_pred)\n",
        "\n",
        "# initialize and compile model within strategy scope\n",
        "with strategy.scope():\n",
        "  model = transformer(\n",
        "      vocab_size=VOCAB_SIZE,\n",
        "      num_layers=NUM_LAYERS,\n",
        "      units=UNITS,\n",
        "      d_model=D_MODEL,\n",
        "      num_heads=NUM_HEADS,\n",
        "      dropout=DROPOUT)\n",
        "\n",
        "  # Compile the model\n",
        "  model.compile(optimizer=optimizer, loss=loss_function, metrics=[accuracy])\n",
        "\n",
        "# Display model summary\n",
        "model.summary()"
      ]
    },
    {
      "cell_type": "markdown",
      "metadata": {
        "id": "vDMd69urLNuc"
      },
      "source": [
        "### Step4: Fit model (Training)"
      ]
    },
    {
      "cell_type": "markdown",
      "metadata": {},
      "source": [
        "Train our transformer by simply calling `model.fit()`"
      ]
    },
    {
      "cell_type": "code",
      "execution_count": null,
      "metadata": {
        "colab": {
          "base_uri": "https://localhost:8080/",
          "height": 1000
        },
        "id": "d7iahRzlLNG2",
        "outputId": "944b0a77-d6bf-497b-9b50-0dfcbbe3426e"
      },
      "outputs": [],
      "source": [
        "model.fit(dataset, epochs=EPOCHS)\n",
        "# model.fit(dataset, epochs=5)"
      ]
    },
    {
      "cell_type": "markdown",
      "metadata": {
        "id": "p1DUXog6WqV-"
      },
      "source": [
        "## Evaluate and predict"
      ]
    },
    {
      "cell_type": "markdown",
      "metadata": {},
      "source": [
        "The following steps are used for evaluation:\n",
        "\n",
        "* Apply the same preprocessing method we used to create our dataset for the input sentence.\n",
        "* Tokenize the input sentence and add `START_TOKEN` and `END_TOKEN`. \n",
        "* Calculate the padding masks and the look ahead masks.\n",
        "* The decoder then outputs the predictions by looking at the encoder output and its own output.\n",
        "* Select the last word and calculate the argmax of that.\n",
        "* Concatentate the predicted word to the decoder input and pass it to the decoder.\n",
        "* In this approach, the decoder predicts the next word based on the previous words it predicted.\n",
        "\n",
        "Note: The model used here has less capacity and trained on a subset of the full dataset, hence its performance can be further improved."
      ]
    },
    {
      "cell_type": "markdown",
      "metadata": {},
      "source": [
        "### Step1: Definition for Evaluation & Prediction"
      ]
    },
    {
      "cell_type": "code",
      "execution_count": null,
      "metadata": {
        "id": "_NjsS3zuAbRn"
      },
      "outputs": [],
      "source": [
        "# Definition for evaluation of the model\n",
        "\n",
        "# Same steps need to be performed for the input sentence as in training\n",
        "# Otherwise, the prediction will not work\n",
        "def evaluate(sentence):\n",
        "  sentence = preprocess_sentence(sentence)\n",
        "\n",
        "  # Tokenize the input sentence\n",
        "  sentence = tf.expand_dims(\n",
        "      START_TOKEN + tokenizer.encode(sentence) + END_TOKEN, axis=0)\n",
        "\n",
        "  # Initialize the first output with start token\n",
        "  output = tf.expand_dims(START_TOKEN, 0)\n",
        "\n",
        "  # Loop through predicted words until the End-token is reached\n",
        "  for i in range(MAX_LENGTH):\n",
        "    predictions = model(inputs=[sentence, output], training=False)\n",
        "\n",
        "    # select the last word from the seq_len dimension\n",
        "    predictions = predictions[:, -1:, :]\n",
        "    predicted_id = tf.cast(tf.argmax(predictions, axis=-1), tf.int32)\n",
        "\n",
        "    # return the result if the predicted_id is equal to the end token\n",
        "    if tf.equal(predicted_id, END_TOKEN[0]):\n",
        "      break\n",
        "\n",
        "    # concatenated the predicted_id to the output which is given to the decoder\n",
        "    # as its input.\n",
        "    output = tf.concat([output, predicted_id], axis=-1)\n",
        "\n",
        "  return tf.squeeze(output, axis=0)\n",
        "\n",
        "\n",
        "# Definition for prediction (Calls evaluate())\n",
        "def predict(sentence):\n",
        "  prediction = evaluate(sentence)\n",
        "\n",
        "  # Decode the predicted output to human read sentence\n",
        "  predicted_sentence = tokenizer.decode(\n",
        "      [i for i in prediction if i < tokenizer.vocab_size])\n",
        "\n",
        "  print('Input: {}'.format(sentence))\n",
        "  print('Output: {}'.format(predicted_sentence))\n",
        "\n",
        "  return predicted_sentence"
      ]
    },
    {
      "cell_type": "markdown",
      "metadata": {
        "id": "9J3Jdtk2P-RT"
      },
      "source": [
        "### Step2: Testing the model (Calls Evaluate/Predict)"
      ]
    },
    {
      "cell_type": "markdown",
      "metadata": {},
      "source": [
        "Testing the model. \n",
        "- Hit \"_Enter_\" to predict an output for an input sentence\n",
        "- Hit \"_Q_\" anytime to quit the program"
      ]
    },
    {
      "cell_type": "code",
      "execution_count": null,
      "metadata": {
        "cellView": "code",
        "colab": {
          "base_uri": "https://localhost:8080/"
        },
        "id": "ivVgU6ydRV8R",
        "outputId": "5841a52e-26bb-48b9-9862-5e2ddf71172a"
      },
      "outputs": [
        {
          "name": "stdout",
          "output_type": "stream",
          "text": [
            "Hit \"Enter\" to continue; \"Q\" to quit;  ==> \n",
            "Enter your question ==> Where have you been?\n",
            "Input: Where have you been?\n",
            "Output: i do not know , i just came up with the military . . .\n",
            "Hit \"Enter\" to continue; \"Q\" to quit;  ==> \n",
            "Enter your question ==> it is frustrating\n",
            "Input: it is frustrating\n",
            "Output: and your head ?\n",
            "Hit \"Enter\" to continue; \"Q\" to quit;  ==> i am hungry\n",
            "Enter your question ==> i am hungry\n",
            "Input: i am hungry\n",
            "Output: not so late . you are so smart to see if you are trying to get me a job , i want to get involved with your own people . jeez , what do you want you need ?\n",
            "Hit \"Enter\" to continue; \"Q\" to quit;  ==> Q\n"
          ]
        }
      ],
      "source": [
        "# Sample testing\n",
        "output = predict('Where have you been?')\n",
        "\n",
        "# Test using user input\n",
        "while True:\n",
        "    input_option = input('Hit \"Enter\" to continue; \"Q\" to quit;  ==> ')\n",
        "    if input_option == \"Q\":\n",
        "        break\n",
        "    else:\n",
        "        predict(input('Enter your question ==> '))"
      ]
    },
    {
      "cell_type": "code",
      "execution_count": null,
      "metadata": {
        "colab": {
          "base_uri": "https://localhost:8080/",
          "height": 276
        },
        "id": "s5zG7i8KAtRU",
        "outputId": "5d2c4927-2435-4646-a2e6-27edc5ffe0a7"
      },
      "outputs": [
        {
          "name": "stdout",
          "output_type": "stream",
          "text": [
            "Input: I am not crazy, my mother had me tested.\n",
            "Output: you don t have a choice .\n",
            "\n",
            "Input: you don t have a choice .\n",
            "Output: i don t have a choice .\n",
            "\n",
            "Input: i don t have a choice .\n",
            "Output: what s wrong ?\n",
            "\n",
            "Input: what s wrong ?\n",
            "Output: you don t have to go . you don t understand\n",
            "\n",
            "Input: you don t have to go . you don t understand\n",
            "Output: i don t know . i m not sure that i do .\n",
            "\n"
          ]
        }
      ],
      "source": [
        "# feed the model with its previous output\n",
        "sentence = 'I am not crazy, my mother had me tested.'\n",
        "for _ in range(5):\n",
        "  sentence = predict(sentence)\n",
        "  print('')"
      ]
    },
    {
      "cell_type": "markdown",
      "metadata": {
        "id": "5-dGPc14QnAP"
      },
      "source": [
        "## Conclusion"
      ]
    },
    {
      "cell_type": "markdown",
      "metadata": {},
      "source": [
        "The execution experience has been summarized here in steps.\n",
        "\n",
        "1. Required libraries were imported successfully. TensorFlow version: 2.7.0 was imported.\n",
        "2. Google Colab TPU strategy configuration was initialized successfully. 8 TPU cores were secured with one worker node.\n",
        "3. Hyper-parameters were initialized successfully.\n",
        "4. Cornell-Movie corpus zipped file was successfully imported from \"www.cs.cornell.edu\" website using Keras file utility. \"Movie_lines.txt\" and \"Movie_conversations.txt\" files have been successfully extracted and files paths were defined.\n",
        "5. Conversations from the corpus have been successfully created using the two input files, while applying pro-processing steps. A list of 50,000 conversations has been created.\n",
        "6. The corpus was tokenized successfully. The resulting vocabulary size was found to be 8279.\n",
        "7. Tokens were applied to the question-and-answer list (conversations). Padding was completed for sentences less than 40 characters length. Total number of questions were found to be 44131.\n",
        "8. Dataset was created successfully as 3 dictionary objects. \n",
        "    - Encoder inputs\n",
        "    - Decoder inputs\n",
        "    - Outputs (answers)\n",
        "9. Definitions for self-attention, multi-head attentions, padding zero tokens, look-ahead masks, positional encoding were created successfully.\n",
        "10. Definitions for encoder layer, encoder unit (Nx encoder layers), decoder layer, decoder unit (Nx decoder layers), and finally Transformers were created successfully.\n",
        "11. Transformer model was compiled successfully using Adam optimizer with custom learning rate, loss function definition, and metrics definition.\n",
        "12. Model training was successfully executed for 40 Epochs. Each epochs took about 5 seconds to train. \n",
        "<br>`Note: The TPU configuration should be enabled successfully. Otherwise, each epoch could take several minutes to train.`\n",
        "13. Definitions for prediction which includes pre-processing, tokenizing, padding, and call-to-model required for prediction phase were created successfully.\n",
        "14. Prediction phase was found to be interesting and promising. There are times the answers are more relevant and sometimes not. Although, there are times the answers are not relevant to the questions, model is still able to create meaningful sentences.\n",
        "15. A sample prediction was run at the end by feeding an example question, and subsequently feeding the previous answer as the next question to ask the model. The answers were found to be interesting."
      ]
    },
    {
      "cell_type": "markdown",
      "metadata": {},
      "source": [
        "## References"
      ]
    },
    {
      "cell_type": "markdown",
      "metadata": {
        "id": "rHMPkA2eQrpT"
      },
      "source": [
        "Vaswani, A., Shazeer, N., Parmar, N., Uszkoreit, J., Jones, L., Gomez, A. N., ... & Polosukhin, I. (2017). Attention is all you need. In _Advances in neural information processing systems_ (pp. 5998-6008). https://arxiv.org/abs/1706.03762\n",
        "\n",
        "TensorFlow. (2022). _Text generation with an RNN_. TensorFlow. https://tensorflow.org/alpha/tutorials/text/text_generation\n",
        "\n",
        "TensorFlow. (2022). _Neural machine translation with attention_. TensorFlow. https://www.tensorflow.org/alpha/tutorials/text/nmt_with_attention\n",
        "\n",
        "TensorFlow. (2022). _Transformer model for language understanding_. https://www.tensorflow.org/alpha/tutorials/text/transformer\n",
        "\n",
        "Bryan. L. (2022). _Transformer Chatbot_. GitHub. https://github.com/bryanlimy/tf2-transformer-chatbot/blob/master/tf2_tpu_transformer_chatbot.ipynb"
      ]
    }
  ],
  "metadata": {
    "accelerator": "TPU",
    "colab": {
      "collapsed_sections": [],
      "name": "TensorFlow_Transformer_Chatbot.ipynb",
      "provenance": [],
      "toc_visible": true
    },
    "kernelspec": {
      "display_name": "Python 3",
      "language": "python",
      "name": "python3"
    },
    "language_info": {
      "codemirror_mode": {
        "name": "ipython",
        "version": 3
      },
      "file_extension": ".py",
      "mimetype": "text/x-python",
      "name": "python",
      "nbconvert_exporter": "python",
      "pygments_lexer": "ipython3",
      "version": "3.8.5"
    }
  },
  "nbformat": 4,
  "nbformat_minor": 0
}
